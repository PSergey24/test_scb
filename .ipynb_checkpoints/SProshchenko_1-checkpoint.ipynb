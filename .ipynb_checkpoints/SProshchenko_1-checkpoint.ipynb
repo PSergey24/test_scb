{
 "cells": [
  {
   "cell_type": "code",
   "execution_count": 51,
   "id": "ed405d6d",
   "metadata": {},
   "outputs": [],
   "source": [
    "import re\n",
    "import string\n",
    "import joblib\n",
    "import pandas as pd\n",
    "import numpy as np\n",
    "import matplotlib.pyplot as plt\n",
    "from sklearn.model_selection import GridSearchCV, train_test_split\n",
    "from sklearn.feature_extraction.text import CountVectorizer, TfidfTransformer\n",
    "from sklearn.naive_bayes import MultinomialNB\n",
    "from sklearn.linear_model import SGDClassifier, LogisticRegression\n",
    "from sklearn.ensemble import RandomForestClassifier\n",
    "from sklearn.svm import LinearSVC\n",
    "from sklearn.pipeline import Pipeline\n",
    "from sklearn import metrics\n",
    "from dataclasses import dataclass\n",
    "from typing import Any\n",
    "from nltk.corpus import stopwords\n",
    "from nltk.tokenize import word_tokenize\n",
    "from pymorphy2 import MorphAnalyzer\n",
    "\n",
    "import warnings\n",
    "warnings.filterwarnings(\"ignore\")"
   ]
  },
  {
   "cell_type": "code",
   "execution_count": 2,
   "id": "c575deb7",
   "metadata": {},
   "outputs": [
    {
     "data": {
      "text/plain": [
       "{'encoding': None, 'confidence': 0.0, 'language': None}"
      ]
     },
     "execution_count": 2,
     "metadata": {},
     "output_type": "execute_result"
    }
   ],
   "source": [
    "import chardet\n",
    "\n",
    "# в исходном файле с расширением xlsm была проблема с кодировкой и он плохо считывался\n",
    "# сделал онлайн конвертацию в utf-8\n",
    "with open('data/train.xlsm', 'rb') as rawdata:\n",
    "    result = chardet.detect(rawdata.read(100000))\n",
    "result"
   ]
  },
  {
   "cell_type": "code",
   "execution_count": 3,
   "id": "368e5fd3",
   "metadata": {},
   "outputs": [],
   "source": [
    "df = pd.read_csv('data/train.csv', sep=';', encoding='utf-8')"
   ]
  },
  {
   "cell_type": "code",
   "execution_count": 36,
   "id": "1b6757bd",
   "metadata": {},
   "outputs": [
    {
     "data": {
      "text/html": [
       "<div>\n",
       "<style scoped>\n",
       "    .dataframe tbody tr th:only-of-type {\n",
       "        vertical-align: middle;\n",
       "    }\n",
       "\n",
       "    .dataframe tbody tr th {\n",
       "        vertical-align: top;\n",
       "    }\n",
       "\n",
       "    .dataframe thead th {\n",
       "        text-align: right;\n",
       "    }\n",
       "</style>\n",
       "<table border=\"1\" class=\"dataframe\">\n",
       "  <thead>\n",
       "    <tr style=\"text-align: right;\">\n",
       "      <th></th>\n",
       "      <th>ucid</th>\n",
       "      <th>text_employer</th>\n",
       "      <th>ACTION_ITEM_RESULT_PRODUCT_NAME</th>\n",
       "    </tr>\n",
       "  </thead>\n",
       "  <tbody>\n",
       "    <tr>\n",
       "      <th>0</th>\n",
       "      <td>5.010388e+17</td>\n",
       "      <td>добрый_день. это ваш персональный_менеджер_сбе...</td>\n",
       "      <td>Бизнес-карта</td>\n",
       "    </tr>\n",
       "    <tr>\n",
       "      <th>1</th>\n",
       "      <td>5.010389e+17</td>\n",
       "      <td>добрый_день строки. это клиентский_менеджер_сб...</td>\n",
       "      <td>Зарплатные проекты</td>\n",
       "    </tr>\n",
       "    <tr>\n",
       "      <th>2</th>\n",
       "      <td>5.010397e+17</td>\n",
       "      <td>здравствуйте. это ваши персональный_менеджер и...</td>\n",
       "      <td>Зарплатные проекты</td>\n",
       "    </tr>\n",
       "    <tr>\n",
       "      <th>3</th>\n",
       "      <td>5.010401e+17</td>\n",
       "      <td>добрый_день. персональный_менеджер сбер бизнес...</td>\n",
       "      <td>Зарплатные проекты</td>\n",
       "    </tr>\n",
       "    <tr>\n",
       "      <th>4</th>\n",
       "      <td>5.010405e+17</td>\n",
       "      <td>в истории смотреть. добрый_день. менеджер_сбер...</td>\n",
       "      <td>Зарплатные проекты</td>\n",
       "    </tr>\n",
       "  </tbody>\n",
       "</table>\n",
       "</div>"
      ],
      "text/plain": [
       "           ucid                                      text_employer   \n",
       "0  5.010388e+17  добрый_день. это ваш персональный_менеджер_сбе...  \\\n",
       "1  5.010389e+17  добрый_день строки. это клиентский_менеджер_сб...   \n",
       "2  5.010397e+17  здравствуйте. это ваши персональный_менеджер и...   \n",
       "3  5.010401e+17  добрый_день. персональный_менеджер сбер бизнес...   \n",
       "4  5.010405e+17  в истории смотреть. добрый_день. менеджер_сбер...   \n",
       "\n",
       "  ACTION_ITEM_RESULT_PRODUCT_NAME  \n",
       "0                    Бизнес-карта  \n",
       "1              Зарплатные проекты  \n",
       "2              Зарплатные проекты  \n",
       "3              Зарплатные проекты  \n",
       "4              Зарплатные проекты  "
      ]
     },
     "execution_count": 36,
     "metadata": {},
     "output_type": "execute_result"
    }
   ],
   "source": [
    "df = df[['ucid', 'text_employer', 'ACTION_ITEM_RESULT_PRODUCT_NAME']]\n",
    "df.head()"
   ]
  },
  {
   "cell_type": "code",
   "execution_count": 5,
   "id": "36e8d496",
   "metadata": {},
   "outputs": [],
   "source": [
    "# в первом задании нужно по тексту предсказывать метку темы\n",
    "# отсюда делаем вывод, что другие столбцы не используем: чисто теоретически вы могли переименовать важные столбцы/фичи в unnamed,\n",
    "# которые появляются при сохранении файла. Также можно представить ситуацию, что некоторые темы появились в определенный период\n",
    "# времени и это может помочь с предсказанием. Например, до какой-то даты была только одна услуга.\n",
    "# Но пока что сосредоточимся только на тексте.\n",
    "\n",
    "# что было обнаружено по тексту? \n",
    "# болтовня перед моментом, когда клиент ответил на телефон (общение с колегой); матерные слова; иностранные слова;\n",
    "# имена, названия городов, которые не влияют на тему;\n",
    "# проблемы с транскрибацией диалогов (опечатки, неверные слова); приветствие, прощание, представляется человек, \n",
    "# говорит свою должность и название банка (кажется данная информация не влияет на тематику продукта); \n",
    "# цифры, знаки препинания, нужно сделать лемматизацию;\n",
    "# короткие диалоги (например только приветствие) и их разные классы влияют тоже, скорее всего разметку я бы поправил, \n",
    "# кажется что нужно оставить только длинные диалоги, потому что в коротких больше всего мусора; \n",
    "# дисбаланс тематик"
   ]
  },
  {
   "cell_type": "code",
   "execution_count": 6,
   "id": "13eac989",
   "metadata": {},
   "outputs": [
    {
     "data": {
      "text/plain": [
       "Unnamed: 0.1                       0\n",
       "Unnamed: 0                         0\n",
       "ucid                               0\n",
       "text_employer                      0\n",
       "date                               0\n",
       "ACTION_ITEM_RESULT_PRODUCT_NAME    0\n",
       "dtype: int64"
      ]
     },
     "execution_count": 6,
     "metadata": {},
     "output_type": "execute_result"
    }
   ],
   "source": [
    "# проверим на пропущенные значения\n",
    "df.isna().sum()"
   ]
  },
  {
   "cell_type": "code",
   "execution_count": 7,
   "id": "cbc34d67",
   "metadata": {},
   "outputs": [],
   "source": [
    "df['category_id'] = pd.factorize(df['ACTION_ITEM_RESULT_PRODUCT_NAME'])[0]"
   ]
  },
  {
   "cell_type": "code",
   "execution_count": 8,
   "id": "f2699706",
   "metadata": {},
   "outputs": [
    {
     "data": {
      "image/png": "[encoded data removed]",
      "text/plain": [
       "<Figure size 500x300 with 1 Axes>"
      ]
     },
     "metadata": {},
     "output_type": "display_data"
    }
   ],
   "source": [
    "fig = plt.figure(figsize=(5,3))\n",
    "df.groupby('ACTION_ITEM_RESULT_PRODUCT_NAME').text_employer.count().plot.bar(ylim=0)\n",
    "plt.show()"
   ]
  },
  {
   "cell_type": "code",
   "execution_count": 9,
   "id": "2a972081",
   "metadata": {},
   "outputs": [
    {
     "data": {
      "text/plain": [
       "text_employer\n",
       "добрый_день                                                                                                                                                                                                                                                                                                                                                                                                                                                                                                                                                                                                                                                                                                                                                                50\n",
       "здравствуйте                                                                                                                                                                                                                                                                                                                                                                                                                                                                                                                                                                                                                                                                                                                                                                6\n",
       "здравствуйте обратиться скрин на линии операционный поддержки по организациям по организация которая. нуля и по пункту с обращаются же. к нему может так обращаться его интересует условия заключение эквайринга то есть взять в аренду терминала. по организации могу озвучьте после то есть все разговоры необходим перевести на линии эквайрингу так как он хочет по другой организации сдать терминалы. организация один. спасибо большое всего доброго до свидания                                                                                                                                                                                                                                                                                                     6\n",
       "добрый                                                                                                                                                                                                                                                                                                                                                                                                                                                                                                                                                                                                                                                                                                                                                                      4\n",
       "а сбербанк линию отп подскажите пожалуйста коллега на линии обращается клиент открывал счет открывает расчетный счет у нас а ему осталось только подтвердить его в банк и такой вопрос у него у него легкий старт на сайте обнаружила информацию что по легкому статус ведет месяца бесплатного один с бухгалтерия вы владеете какое-либо информации по данному на линии. поняла она говорит в бухгалтерию а там у вас другая информация. а можете в словах сказать что за бизнес старт он что под собой подразумевает или не владеете информацией. на на один год. при легком старте так же. на всех пакета хреново так хорошо это все что я хотела вам необходимо какие-либо данные у вас карточку тянулось. нет тогда всего вам доброго удачного смена и до свидания     3\n",
       "Name: count, dtype: int64"
      ]
     },
     "execution_count": 9,
     "metadata": {},
     "output_type": "execute_result"
    }
   ],
   "source": [
    "# вообще хотел глянуть на дубликаты и их классы, но было обнаружено, что присутствуют примеры, которые не несут какого-то смысла\n",
    "# в разрезе текущей задачи классификации\n",
    "df['text_employer'].value_counts(dropna=False).head(5)"
   ]
  },
  {
   "cell_type": "code",
   "execution_count": 10,
   "id": "56e2eb3b",
   "metadata": {},
   "outputs": [
    {
     "data": {
      "text/html": [
       "<div>\n",
       "<style scoped>\n",
       "    .dataframe tbody tr th:only-of-type {\n",
       "        vertical-align: middle;\n",
       "    }\n",
       "\n",
       "    .dataframe tbody tr th {\n",
       "        vertical-align: top;\n",
       "    }\n",
       "\n",
       "    .dataframe thead th {\n",
       "        text-align: right;\n",
       "    }\n",
       "</style>\n",
       "<table border=\"1\" class=\"dataframe\">\n",
       "  <thead>\n",
       "    <tr style=\"text-align: right;\">\n",
       "      <th></th>\n",
       "      <th>Unnamed: 0.1</th>\n",
       "      <th>Unnamed: 0</th>\n",
       "      <th>ucid</th>\n",
       "      <th>text_employer</th>\n",
       "      <th>date</th>\n",
       "      <th>ACTION_ITEM_RESULT_PRODUCT_NAME</th>\n",
       "      <th>category_id</th>\n",
       "    </tr>\n",
       "  </thead>\n",
       "  <tbody>\n",
       "    <tr>\n",
       "      <th>84</th>\n",
       "      <td>139144</td>\n",
       "      <td>351487</td>\n",
       "      <td>5.010933e+17</td>\n",
       "      <td>добрый_день</td>\n",
       "      <td>2021-02-15</td>\n",
       "      <td>Зарплатные проекты</td>\n",
       "      <td>1</td>\n",
       "    </tr>\n",
       "    <tr>\n",
       "      <th>132</th>\n",
       "      <td>139312</td>\n",
       "      <td>351910</td>\n",
       "      <td>5.011273e+17</td>\n",
       "      <td>добрый_день</td>\n",
       "      <td>2021-02-24</td>\n",
       "      <td>Эквайринг</td>\n",
       "      <td>2</td>\n",
       "    </tr>\n",
       "    <tr>\n",
       "      <th>214</th>\n",
       "      <td>139580</td>\n",
       "      <td>352560</td>\n",
       "      <td>5.010174e+17</td>\n",
       "      <td>добрый_день</td>\n",
       "      <td>2021-02-20</td>\n",
       "      <td>Зарплатные проекты</td>\n",
       "      <td>1</td>\n",
       "    </tr>\n",
       "    <tr>\n",
       "      <th>235</th>\n",
       "      <td>139644</td>\n",
       "      <td>352722</td>\n",
       "      <td>5.010304e+17</td>\n",
       "      <td>добрый_день</td>\n",
       "      <td>2021-02-18</td>\n",
       "      <td>Зарплатные проекты</td>\n",
       "      <td>1</td>\n",
       "    </tr>\n",
       "    <tr>\n",
       "      <th>289</th>\n",
       "      <td>139819</td>\n",
       "      <td>353204</td>\n",
       "      <td>5.010693e+17</td>\n",
       "      <td>добрый_день</td>\n",
       "      <td>2021-02-19</td>\n",
       "      <td>Эквайринг</td>\n",
       "      <td>2</td>\n",
       "    </tr>\n",
       "  </tbody>\n",
       "</table>\n",
       "</div>"
      ],
      "text/plain": [
       "     Unnamed: 0.1  Unnamed: 0          ucid text_employer        date   \n",
       "84         139144      351487  5.010933e+17   добрый_день  2021-02-15  \\\n",
       "132        139312      351910  5.011273e+17   добрый_день  2021-02-24   \n",
       "214        139580      352560  5.010174e+17   добрый_день  2021-02-20   \n",
       "235        139644      352722  5.010304e+17   добрый_день  2021-02-18   \n",
       "289        139819      353204  5.010693e+17   добрый_день  2021-02-19   \n",
       "\n",
       "    ACTION_ITEM_RESULT_PRODUCT_NAME  category_id  \n",
       "84               Зарплатные проекты            1  \n",
       "132                       Эквайринг            2  \n",
       "214              Зарплатные проекты            1  \n",
       "235              Зарплатные проекты            1  \n",
       "289                       Эквайринг            2  "
      ]
     },
     "execution_count": 10,
     "metadata": {},
     "output_type": "execute_result"
    }
   ],
   "source": [
    "# видно, что просто приветствие имеет разные классы. Позже нужно будет почистить это. Возможно там был более длинный текст и\n",
    "# вы просто заменили его на 'добрый_день'\n",
    "df[df['text_employer'] == 'добрый_день'].head(5)"
   ]
  },
  {
   "cell_type": "code",
   "execution_count": 11,
   "id": "6881c31b",
   "metadata": {},
   "outputs": [
    {
     "data": {
      "text/html": [
       "<div>\n",
       "<style scoped>\n",
       "    .dataframe tbody tr th:only-of-type {\n",
       "        vertical-align: middle;\n",
       "    }\n",
       "\n",
       "    .dataframe tbody tr th {\n",
       "        vertical-align: top;\n",
       "    }\n",
       "\n",
       "    .dataframe thead th {\n",
       "        text-align: right;\n",
       "    }\n",
       "</style>\n",
       "<table border=\"1\" class=\"dataframe\">\n",
       "  <thead>\n",
       "    <tr style=\"text-align: right;\">\n",
       "      <th></th>\n",
       "      <th>Unnamed: 0.1</th>\n",
       "      <th>Unnamed: 0</th>\n",
       "      <th>ucid</th>\n",
       "      <th>text_employer</th>\n",
       "      <th>date</th>\n",
       "      <th>ACTION_ITEM_RESULT_PRODUCT_NAME</th>\n",
       "      <th>category_id</th>\n",
       "    </tr>\n",
       "  </thead>\n",
       "  <tbody>\n",
       "    <tr>\n",
       "      <th>16</th>\n",
       "      <td>138952</td>\n",
       "      <td>350947</td>\n",
       "      <td>5.010479e+17</td>\n",
       "      <td>у меня один один</td>\n",
       "      <td>2021-02-15</td>\n",
       "      <td>Зарплатные проекты</td>\n",
       "      <td>1</td>\n",
       "    </tr>\n",
       "    <tr>\n",
       "      <th>61</th>\n",
       "      <td>139073</td>\n",
       "      <td>351284</td>\n",
       "      <td>5.010759e+17</td>\n",
       "      <td>давай</td>\n",
       "      <td>2021-02-17</td>\n",
       "      <td>Бизнес-карта</td>\n",
       "      <td>0</td>\n",
       "    </tr>\n",
       "    <tr>\n",
       "      <th>84</th>\n",
       "      <td>139144</td>\n",
       "      <td>351487</td>\n",
       "      <td>5.010933e+17</td>\n",
       "      <td>добрый_день</td>\n",
       "      <td>2021-02-15</td>\n",
       "      <td>Зарплатные проекты</td>\n",
       "      <td>1</td>\n",
       "    </tr>\n",
       "    <tr>\n",
       "      <th>132</th>\n",
       "      <td>139312</td>\n",
       "      <td>351910</td>\n",
       "      <td>5.011273e+17</td>\n",
       "      <td>добрый_день</td>\n",
       "      <td>2021-02-24</td>\n",
       "      <td>Эквайринг</td>\n",
       "      <td>2</td>\n",
       "    </tr>\n",
       "    <tr>\n",
       "      <th>161</th>\n",
       "      <td>139413</td>\n",
       "      <td>352200</td>\n",
       "      <td>5.011508e+17</td>\n",
       "      <td>выходной положил</td>\n",
       "      <td>2021-02-20</td>\n",
       "      <td>Бизнес-карта</td>\n",
       "      <td>0</td>\n",
       "    </tr>\n",
       "    <tr>\n",
       "      <th>213</th>\n",
       "      <td>139573</td>\n",
       "      <td>352546</td>\n",
       "      <td>5.010160e+17</td>\n",
       "      <td>переговорить</td>\n",
       "      <td>2021-02-26</td>\n",
       "      <td>Зарплатные проекты</td>\n",
       "      <td>1</td>\n",
       "    </tr>\n",
       "    <tr>\n",
       "      <th>214</th>\n",
       "      <td>139580</td>\n",
       "      <td>352560</td>\n",
       "      <td>5.010174e+17</td>\n",
       "      <td>добрый_день</td>\n",
       "      <td>2021-02-20</td>\n",
       "      <td>Зарплатные проекты</td>\n",
       "      <td>1</td>\n",
       "    </tr>\n",
       "    <tr>\n",
       "      <th>235</th>\n",
       "      <td>139644</td>\n",
       "      <td>352722</td>\n",
       "      <td>5.010304e+17</td>\n",
       "      <td>добрый_день</td>\n",
       "      <td>2021-02-18</td>\n",
       "      <td>Зарплатные проекты</td>\n",
       "      <td>1</td>\n",
       "    </tr>\n",
       "    <tr>\n",
       "      <th>289</th>\n",
       "      <td>139819</td>\n",
       "      <td>353204</td>\n",
       "      <td>5.010693e+17</td>\n",
       "      <td>добрый_день</td>\n",
       "      <td>2021-02-19</td>\n",
       "      <td>Эквайринг</td>\n",
       "      <td>2</td>\n",
       "    </tr>\n",
       "    <tr>\n",
       "      <th>325</th>\n",
       "      <td>139940</td>\n",
       "      <td>353531</td>\n",
       "      <td>5.010935e+17</td>\n",
       "      <td>здравствуйте</td>\n",
       "      <td>2021-02-26</td>\n",
       "      <td>Зарплатные проекты</td>\n",
       "      <td>1</td>\n",
       "    </tr>\n",
       "    <tr>\n",
       "      <th>345</th>\n",
       "      <td>139995</td>\n",
       "      <td>353663</td>\n",
       "      <td>5.011053e+17</td>\n",
       "      <td>добрый_день</td>\n",
       "      <td>2021-02-17</td>\n",
       "      <td>Открытие банковского счета</td>\n",
       "      <td>3</td>\n",
       "    </tr>\n",
       "    <tr>\n",
       "      <th>363</th>\n",
       "      <td>140065</td>\n",
       "      <td>353816</td>\n",
       "      <td>5.011166e+17</td>\n",
       "      <td>добрый_день</td>\n",
       "      <td>2021-02-18</td>\n",
       "      <td>Открытие банковского счета</td>\n",
       "      <td>3</td>\n",
       "    </tr>\n",
       "    <tr>\n",
       "      <th>381</th>\n",
       "      <td>140155</td>\n",
       "      <td>354039</td>\n",
       "      <td>5.011345e+17</td>\n",
       "      <td>добрый_день</td>\n",
       "      <td>2021-02-20</td>\n",
       "      <td>Зарплатные проекты</td>\n",
       "      <td>1</td>\n",
       "    </tr>\n",
       "    <tr>\n",
       "      <th>382</th>\n",
       "      <td>140156</td>\n",
       "      <td>354040</td>\n",
       "      <td>5.011346e+17</td>\n",
       "      <td>добрый_день</td>\n",
       "      <td>2021-02-26</td>\n",
       "      <td>Бизнес-карта</td>\n",
       "      <td>0</td>\n",
       "    </tr>\n",
       "    <tr>\n",
       "      <th>444</th>\n",
       "      <td>140346</td>\n",
       "      <td>354500</td>\n",
       "      <td>5.010110e+17</td>\n",
       "      <td>а</td>\n",
       "      <td>2021-02-26</td>\n",
       "      <td>Зарплатные проекты</td>\n",
       "      <td>1</td>\n",
       "    </tr>\n",
       "  </tbody>\n",
       "</table>\n",
       "</div>"
      ],
      "text/plain": [
       "     Unnamed: 0.1  Unnamed: 0          ucid     text_employer        date   \n",
       "16         138952      350947  5.010479e+17  у меня один один  2021-02-15  \\\n",
       "61         139073      351284  5.010759e+17             давай  2021-02-17   \n",
       "84         139144      351487  5.010933e+17       добрый_день  2021-02-15   \n",
       "132        139312      351910  5.011273e+17       добрый_день  2021-02-24   \n",
       "161        139413      352200  5.011508e+17  выходной положил  2021-02-20   \n",
       "213        139573      352546  5.010160e+17      переговорить  2021-02-26   \n",
       "214        139580      352560  5.010174e+17       добрый_день  2021-02-20   \n",
       "235        139644      352722  5.010304e+17       добрый_день  2021-02-18   \n",
       "289        139819      353204  5.010693e+17       добрый_день  2021-02-19   \n",
       "325        139940      353531  5.010935e+17      здравствуйте  2021-02-26   \n",
       "345        139995      353663  5.011053e+17       добрый_день  2021-02-17   \n",
       "363        140065      353816  5.011166e+17       добрый_день  2021-02-18   \n",
       "381        140155      354039  5.011345e+17       добрый_день  2021-02-20   \n",
       "382        140156      354040  5.011346e+17       добрый_день  2021-02-26   \n",
       "444        140346      354500  5.010110e+17                 а  2021-02-26   \n",
       "\n",
       "    ACTION_ITEM_RESULT_PRODUCT_NAME  category_id  \n",
       "16               Зарплатные проекты            1  \n",
       "61                     Бизнес-карта            0  \n",
       "84               Зарплатные проекты            1  \n",
       "132                       Эквайринг            2  \n",
       "161                    Бизнес-карта            0  \n",
       "213              Зарплатные проекты            1  \n",
       "214              Зарплатные проекты            1  \n",
       "235              Зарплатные проекты            1  \n",
       "289                       Эквайринг            2  \n",
       "325              Зарплатные проекты            1  \n",
       "345      Открытие банковского счета            3  \n",
       "363      Открытие банковского счета            3  \n",
       "381              Зарплатные проекты            1  \n",
       "382                    Бизнес-карта            0  \n",
       "444              Зарплатные проекты            1  "
      ]
     },
     "execution_count": 11,
     "metadata": {},
     "output_type": "execute_result"
    }
   ],
   "source": [
    "# также нужно будет отфильтровать короткие сообщения\n",
    "df[df['text_employer'].str.len() <= 20].head(15)"
   ]
  },
  {
   "cell_type": "code",
   "execution_count": null,
   "id": "56998bd2",
   "metadata": {},
   "outputs": [],
   "source": []
  },
  {
   "cell_type": "code",
   "execution_count": 12,
   "id": "49266f55",
   "metadata": {},
   "outputs": [],
   "source": [
    "df_train, df_test = train_test_split(df, test_size=0.2)"
   ]
  },
  {
   "cell_type": "code",
   "execution_count": 13,
   "id": "55bdb8a8",
   "metadata": {},
   "outputs": [],
   "source": [
    "@dataclass\n",
    "class Model:\n",
    "    name: str\n",
    "    model: Any\n",
    "    acc: float\n",
    "        \n",
    "\n",
    "def train_models(df_train, df_test):\n",
    "    result = []\n",
    "    models = {'NB': MultinomialNB(), \n",
    "              'SGDClassifier': \n",
    "              SGDClassifier(loss='hinge', penalty='l2', alpha=1e-3, random_state=42, max_iter=5, tol=None), \n",
    "              'RF': RandomForestClassifier(n_estimators=200, max_depth=3, random_state=0),\n",
    "              'LinearSVC': LinearSVC(),\n",
    "              'LogisticRegression': LogisticRegression(random_state=0)\n",
    "             }\n",
    "    \n",
    "    for name, model in models.items():\n",
    "        text_clf = Pipeline([\n",
    "            ('vect', CountVectorizer()),\n",
    "            ('tfidf', TfidfTransformer()),\n",
    "            ('clf', model),\n",
    "        ])\n",
    "\n",
    "        text_clf.fit(df_train.text_employer, df_train.category_id)\n",
    "        Pipeline(...)\n",
    "\n",
    "        predicted = text_clf.predict(df_test.text_employer)\n",
    "        accuracy = np.mean(predicted == df_test.category_id)\n",
    "\n",
    "        print(f'{name}={accuracy}')\n",
    "        result.append(Model(name, text_clf, accuracy))\n",
    "        \n",
    "        result.sort(key=lambda x: x.acc, reverse=True)\n",
    "    return result"
   ]
  },
  {
   "cell_type": "code",
   "execution_count": 14,
   "id": "79e1ed5f",
   "metadata": {},
   "outputs": [
    {
     "name": "stdout",
     "output_type": "stream",
     "text": [
      "NB=0.6100917431192661\n",
      "SGDClassifier=0.7642201834862385\n",
      "RF=0.5495412844036697\n",
      "LinearSVC=0.7577981651376147\n",
      "LogisticRegression=0.7660550458715596\n"
     ]
    }
   ],
   "source": [
    "# before text preprocessing:\n",
    "models = train_models(df_train, df_test)"
   ]
  },
  {
   "cell_type": "code",
   "execution_count": null,
   "id": "e0c8ba56",
   "metadata": {},
   "outputs": [],
   "source": []
  },
  {
   "cell_type": "code",
   "execution_count": 15,
   "id": "84ff69c7",
   "metadata": {},
   "outputs": [],
   "source": [
    "# SGDClassifier"
   ]
  },
  {
   "cell_type": "code",
   "execution_count": 15,
   "id": "e80dd85a",
   "metadata": {},
   "outputs": [
    {
     "data": {
      "text/html": [
       "<style>#sk-container-id-1 {color: black;background-color: white;}#sk-container-id-1 pre{padding: 0;}#sk-container-id-1 div.sk-toggleable {background-color: white;}#sk-container-id-1 label.sk-toggleable__label {cursor: pointer;display: block;width: 100%;margin-bottom: 0;padding: 0.3em;box-sizing: border-box;text-align: center;}#sk-container-id-1 label.sk-toggleable__label-arrow:before {content: \"▸\";float: left;margin-right: 0.25em;color: #696969;}#sk-container-id-1 label.sk-toggleable__label-arrow:hover:before {color: black;}#sk-container-id-1 div.sk-estimator:hover label.sk-toggleable__label-arrow:before {color: black;}#sk-container-id-1 div.sk-toggleable__content {max-height: 0;max-width: 0;overflow: hidden;text-align: left;background-color: #f0f8ff;}#sk-container-id-1 div.sk-toggleable__content pre {margin: 0.2em;color: black;border-radius: 0.25em;background-color: #f0f8ff;}#sk-container-id-1 input.sk-toggleable__control:checked~div.sk-toggleable__content {max-height: 200px;max-width: 100%;overflow: auto;}#sk-container-id-1 input.sk-toggleable__control:checked~label.sk-toggleable__label-arrow:before {content: \"▾\";}#sk-container-id-1 div.sk-estimator input.sk-toggleable__control:checked~label.sk-toggleable__label {background-color: #d4ebff;}#sk-container-id-1 div.sk-label input.sk-toggleable__control:checked~label.sk-toggleable__label {background-color: #d4ebff;}#sk-container-id-1 input.sk-hidden--visually {border: 0;clip: rect(1px 1px 1px 1px);clip: rect(1px, 1px, 1px, 1px);height: 1px;margin: -1px;overflow: hidden;padding: 0;position: absolute;width: 1px;}#sk-container-id-1 div.sk-estimator {font-family: monospace;background-color: #f0f8ff;border: 1px dotted black;border-radius: 0.25em;box-sizing: border-box;margin-bottom: 0.5em;}#sk-container-id-1 div.sk-estimator:hover {background-color: #d4ebff;}#sk-container-id-1 div.sk-parallel-item::after {content: \"\";width: 100%;border-bottom: 1px solid gray;flex-grow: 1;}#sk-container-id-1 div.sk-label:hover label.sk-toggleable__label {background-color: #d4ebff;}#sk-container-id-1 div.sk-serial::before {content: \"\";position: absolute;border-left: 1px solid gray;box-sizing: border-box;top: 0;bottom: 0;left: 50%;z-index: 0;}#sk-container-id-1 div.sk-serial {display: flex;flex-direction: column;align-items: center;background-color: white;padding-right: 0.2em;padding-left: 0.2em;position: relative;}#sk-container-id-1 div.sk-item {position: relative;z-index: 1;}#sk-container-id-1 div.sk-parallel {display: flex;align-items: stretch;justify-content: center;background-color: white;position: relative;}#sk-container-id-1 div.sk-item::before, #sk-container-id-1 div.sk-parallel-item::before {content: \"\";position: absolute;border-left: 1px solid gray;box-sizing: border-box;top: 0;bottom: 0;left: 50%;z-index: -1;}#sk-container-id-1 div.sk-parallel-item {display: flex;flex-direction: column;z-index: 1;position: relative;background-color: white;}#sk-container-id-1 div.sk-parallel-item:first-child::after {align-self: flex-end;width: 50%;}#sk-container-id-1 div.sk-parallel-item:last-child::after {align-self: flex-start;width: 50%;}#sk-container-id-1 div.sk-parallel-item:only-child::after {width: 0;}#sk-container-id-1 div.sk-dashed-wrapped {border: 1px dashed gray;margin: 0 0.4em 0.5em 0.4em;box-sizing: border-box;padding-bottom: 0.4em;background-color: white;}#sk-container-id-1 div.sk-label label {font-family: monospace;font-weight: bold;display: inline-block;line-height: 1.2em;}#sk-container-id-1 div.sk-label-container {text-align: center;}#sk-container-id-1 div.sk-container {/* jupyter's `normalize.less` sets `[hidden] { display: none; }` but bootstrap.min.css set `[hidden] { display: none !important; }` so we also need the `!important` here to be able to override the default hidden behavior on the sphinx rendered scikit-learn.org. See: https://github.com/scikit-learn/scikit-learn/issues/21755 */display: inline-block !important;position: relative;}#sk-container-id-1 div.sk-text-repr-fallback {display: none;}</style><div id=\"sk-container-id-1\" class=\"sk-top-container\"><div class=\"sk-text-repr-fallback\"><pre>Pipeline(steps=Ellipsis)</pre><b>In a Jupyter environment, please rerun this cell to show the HTML representation or trust the notebook. <br />On GitHub, the HTML representation is unable to render, please try loading this page with nbviewer.org.</b></div><div class=\"sk-container\" hidden><div class=\"sk-item\"><div class=\"sk-estimator sk-toggleable\"><input class=\"sk-toggleable__control sk-hidden--visually\" id=\"sk-estimator-id-1\" type=\"checkbox\" checked><label for=\"sk-estimator-id-1\" class=\"sk-toggleable__label sk-toggleable__label-arrow\">Pipeline</label><div class=\"sk-toggleable__content\"><pre>Pipeline(steps=Ellipsis)</pre></div></div></div></div></div>"
      ],
      "text/plain": [
       "Pipeline(steps=Ellipsis)"
      ]
     },
     "execution_count": 15,
     "metadata": {},
     "output_type": "execute_result"
    }
   ],
   "source": [
    "text_clf = Pipeline([\n",
    "    ('vect', CountVectorizer()),\n",
    "    ('tfidf', TfidfTransformer()),\n",
    "    ('clf', SGDClassifier(loss='hinge', penalty='l2',\n",
    "        alpha=1e-3, random_state=42,\n",
    "        max_iter=5, tol=None)),\n",
    "])\n",
    "\n",
    "text_clf.fit(df_train.text_employer, df_train.category_id)\n",
    "Pipeline(...)"
   ]
  },
  {
   "cell_type": "code",
   "execution_count": 16,
   "id": "f89e5206",
   "metadata": {},
   "outputs": [
    {
     "data": {
      "text/plain": [
       "0.7642201834862385"
      ]
     },
     "execution_count": 16,
     "metadata": {},
     "output_type": "execute_result"
    }
   ],
   "source": [
    "predicted = text_clf.predict(df_test.text_employer)\n",
    "np.mean(predicted == df_test.category_id)"
   ]
  },
  {
   "cell_type": "code",
   "execution_count": 17,
   "id": "36e38995",
   "metadata": {},
   "outputs": [
    {
     "name": "stdout",
     "output_type": "stream",
     "text": [
      "              precision    recall  f1-score   support\n",
      "\n",
      "           0       0.74      0.91      0.82       497\n",
      "           1       0.80      0.68      0.73       300\n",
      "           2       0.81      0.69      0.75        95\n",
      "           3       0.76      0.55      0.64       198\n",
      "\n",
      "    accuracy                           0.76      1090\n",
      "   macro avg       0.78      0.71      0.74      1090\n",
      "weighted avg       0.77      0.76      0.76      1090\n",
      "\n"
     ]
    }
   ],
   "source": [
    "print(metrics.classification_report(df_test.category_id, predicted))"
   ]
  },
  {
   "cell_type": "code",
   "execution_count": 18,
   "id": "b9b80878",
   "metadata": {},
   "outputs": [],
   "source": [
    "# recall - Вероятность того, что мы скажем про этот объект что он принадлежит классу 1 при условии, \n",
    "# что он действительно принадлежит классу 1\n",
    "\n",
    "# precision - Вероятность того, что объект принадлежит классу 1 при условии, \n",
    "# что наш алгоритм сказал про этот объект, что он принадлежит классу 1\n",
    "\n",
    "# для разных задач оптимизируют разные метрики. Например, для предсказания болезней лучше оптимизировать recall. \n",
    "# Если высокий recall, то это не значит что если мы сказали что человек болен - он действительно болен (за это отвечает precision).\n",
    "# Это означает, что если человек болен на самом деле, то вы скорее всего скажите что он болен. \n",
    "# Потому что важно выцепить всех больных. "
   ]
  },
  {
   "cell_type": "code",
   "execution_count": null,
   "id": "7c78ac2c",
   "metadata": {},
   "outputs": [],
   "source": []
  },
  {
   "cell_type": "code",
   "execution_count": 19,
   "id": "b31072a9",
   "metadata": {},
   "outputs": [
    {
     "data": {
      "text/plain": [
       "array([[454,  24,   6,  13],\n",
       "       [ 75, 204,   3,  18],\n",
       "       [ 20,   6,  66,   3],\n",
       "       [ 61,  22,   6, 109]])"
      ]
     },
     "execution_count": 19,
     "metadata": {},
     "output_type": "execute_result"
    }
   ],
   "source": [
    "metrics.confusion_matrix(df_test.category_id, predicted)"
   ]
  },
  {
   "cell_type": "code",
   "execution_count": null,
   "id": "ea8d0314",
   "metadata": {},
   "outputs": [],
   "source": [
    "# Бизнес-карта (0 класс). По confusion matrix можно сказать, что 1, 2, 3 класс чаще ошибаются в пользу 0го класса.\n",
    "# Это наиболее частые ошибки. В целом в датасете присутствует дисбаланс в пользу 0го класса. Можно попробовать уровнять их.\n",
    "# Также, есть гипотеза, что слова (добрый день, здравствуйте, меня зовут, до свидания, ваш менеджер и т.п.) присутствуют \n",
    "# во многих фразах. Хочу их добавить в стоп-слова и фильтрануть. Данные слова не несут какой-либо пользы в контексте данной задачи. \n",
    "# В целом кажется, что нужно сделать упор именно на изучение диалогов. Скорее всего есть пересечения общих слов или с одним клиентом\n",
    "# могут обсуждать несколько тематик.\n",
    "\n",
    "# также 0ой класс чуть чаще ошибается в пользу 1го, чем 2го или 3го. "
   ]
  },
  {
   "cell_type": "code",
   "execution_count": 42,
   "id": "93f22ae9",
   "metadata": {},
   "outputs": [],
   "source": [
    "morph = MorphAnalyzer()\n",
    "\n",
    "def data_preprocessing(df, production=False):\n",
    "    stop_words = set(stopwords.words('russian'))\n",
    "    stop_words = add_stop_words(stop_words)\n",
    "\n",
    "    if production is False:\n",
    "        df = filter_simple_phrases(df)\n",
    "        df = filter_short_phrases(df)\n",
    "\n",
    "    string.punctuation = string.punctuation.replace('-', '')\n",
    "    df['text_employer'] = df['text_employer'].apply(lambda t: t.lower())\n",
    "    df['text_employer'] = df['text_employer'].apply(replace_symbol)\n",
    "    df['text_employer'] = df['text_employer'].apply(lambda x: remove_stopwords(x, stop_words))\n",
    "    df['text_employer'] = df['text_employer'].apply(lambda x: re.sub('[%s]' % re.escape(string.punctuation), '', x))\n",
    "    df['text_employer'] = df['text_employer'].apply(lambda x: re.sub('\\w*\\d\\w*', '', x))\n",
    "    df['text_employer'] = df['text_employer'].apply(lemmatize)\n",
    "    df = df.drop_duplicates(subset=['text_employer'])\n",
    "    \n",
    "    return df\n",
    "\n",
    "\n",
    "def add_stop_words(stop_words):\n",
    "    # seems that for classification task need to add stop words like 'hello'\n",
    "    new_words = ['э', 'а', 'м', 'к', 'же', 'у', 'box', 'санкт-петербург', 'москва', 'это', 'лопух', 'вот', 'там', 'психоз', 'ну',\n",
    "    'этот', 'уже', 'сантиметров', 'жесткая', 'она', 'прям', 'вообще', 'пошел', 'звоним', 'штоб', 'бога', 'на', 'максим',\n",
    "    'или', 'мастер', 'кого', 'ой', 'по', 'выходной', 'давай', 'пизда', 'истории', 'пари', 'виктория', 'ma', 'ager', 'июль',\n",
    "                'возможно', 'тот', 'например', 'какой-либо', 'какой-то', 'по-моему', 'когда-то', 'суббота', 'вера', 'март',\n",
    "                 'gear', 'московский', 'новосибирск', 'район', 'календарь', 'турция', 'город', 'маэстро', 'как-нибудь', 'либо',\n",
    "                'примерно', 'который']\n",
    "    \n",
    "    stop_this_task = ['добрый', 'день', 'ваш', 'менеджер', 'персональный', 'клиентский', 'спасибо', 'пожалуйста', 'свидания', \n",
    "                      'свидание', 'вопрос', 'перезвонить', 'мочь', 'рассказать', 'абсолютно', 'сбер', 'сбербанк',\n",
    "       'сказать', 'уточнить', 'прощение', 'блок', 'побеспокоить', 'гугл', 'браузер', 'яндекс', 'сайт',\n",
    "        'рада', 'помочь', 'вечер', 'утро', 'уделить', 'время', 'хотеть', 'также', 'удобно', 'благодарить', 'любезный', 'неделя', \n",
    "           'месяц', 'пятница', 'понедельник', 'вторник', 'среда', 'четверг', 'воскресенье', 'завтра', 'прощение']\n",
    "    new_words += stop_this_task\n",
    "    return set(list(stop_words) + new_words)\n",
    "\n",
    "\n",
    "def filter_simple_phrases(df):\n",
    "    return df[(df['text_employer'] != 'добрый_день') & (df['text_employer'] != 'здравствуйте')\n",
    "              & (df['text_employer'] != 'добрый_день. добрый_день')\n",
    "              & (df['text_employer'] != 'хорошо')\n",
    "              & (df['text_employer'] != 'добрый')\n",
    "              & (df['text_employer'] != 'а')]\n",
    "\n",
    "\n",
    "def filter_short_phrases(df):\n",
    "    return df[(df['text_employer'].str.len() > 100)]\n",
    "\n",
    "\n",
    "def replace_symbol(x):\n",
    "    return x.replace('_', ' ')\n",
    "\n",
    "\n",
    "def remove_stopwords(doc, stop_words):\n",
    "    filtered_doc = [token for token in word_tokenize(doc) if not token in stop_words]\n",
    "    return \" \".join(filtered_doc)\n",
    "\n",
    "\n",
    "def lemmatize(doc):\n",
    "    tokens = [morph.normal_forms(token)[0] for token in word_tokenize(doc)]\n",
    "    return \" \".join(tokens)"
   ]
  },
  {
   "cell_type": "code",
   "execution_count": 21,
   "id": "9933712c",
   "metadata": {},
   "outputs": [],
   "source": [
    "# data preprocessing\n",
    "df_filtered = df.copy()\n",
    "df_filtered = data_preprocessing(df_filtered)"
   ]
  },
  {
   "cell_type": "code",
   "execution_count": null,
   "id": "83a5f1ab",
   "metadata": {},
   "outputs": [],
   "source": []
  },
  {
   "cell_type": "code",
   "execution_count": 23,
   "id": "d697c74e",
   "metadata": {},
   "outputs": [],
   "source": [
    "df_filtered_train, df_filtered_test = train_test_split(df_filtered, test_size=0.2)"
   ]
  },
  {
   "cell_type": "code",
   "execution_count": 24,
   "id": "60246cbf",
   "metadata": {},
   "outputs": [],
   "source": [
    "# посмотреть соблюдается ли примерно балланс классов в train и test. Соотношение примерно одинаковое в обучющей и тренировочной\n",
    "# выборках. Но в целом дисбаланс присутствует."
   ]
  },
  {
   "cell_type": "code",
   "execution_count": 25,
   "id": "e47ecc2a",
   "metadata": {},
   "outputs": [
    {
     "data": {
      "text/plain": [
       "0.2466251298026999"
      ]
     },
     "execution_count": 25,
     "metadata": {},
     "output_type": "execute_result"
    }
   ],
   "source": [
    "len(df_filtered_test[df_filtered_test.category_id == 0]) / len(df_filtered_train[df_filtered_train.category_id == 0])"
   ]
  },
  {
   "cell_type": "code",
   "execution_count": 26,
   "id": "f5e5fd99",
   "metadata": {},
   "outputs": [
    {
     "data": {
      "text/plain": [
       "0.25854513584574934"
      ]
     },
     "execution_count": 26,
     "metadata": {},
     "output_type": "execute_result"
    }
   ],
   "source": [
    "len(df_filtered_test[df_filtered_test.category_id == 1]) / len(df_filtered_train[df_filtered_train.category_id == 1])"
   ]
  },
  {
   "cell_type": "code",
   "execution_count": 27,
   "id": "ef80e45e",
   "metadata": {
    "scrolled": true
   },
   "outputs": [
    {
     "data": {
      "text/plain": [
       "0.2222222222222222"
      ]
     },
     "execution_count": 27,
     "metadata": {},
     "output_type": "execute_result"
    }
   ],
   "source": [
    "len(df_filtered_test[df_filtered_test.category_id == 2]) / len(df_filtered_train[df_filtered_train.category_id == 2])"
   ]
  },
  {
   "cell_type": "code",
   "execution_count": 28,
   "id": "e7d4fcb4",
   "metadata": {},
   "outputs": [
    {
     "data": {
      "text/plain": [
       "0.2627627627627628"
      ]
     },
     "execution_count": 28,
     "metadata": {},
     "output_type": "execute_result"
    }
   ],
   "source": [
    "len(df_filtered_test[df_filtered_test.category_id == 3]) / len(df_filtered_train[df_filtered_train.category_id == 3])"
   ]
  },
  {
   "cell_type": "code",
   "execution_count": 29,
   "id": "18c969e7",
   "metadata": {},
   "outputs": [
    {
     "name": "stdout",
     "output_type": "stream",
     "text": [
      "NB=0.6833493743984601\n",
      "SGDClassifier=0.7728585178055823\n",
      "RF=0.631376323387873\n",
      "LinearSVC=0.7613089509143407\n",
      "LogisticRegression=0.7738209817131858\n"
     ]
    }
   ],
   "source": [
    "# after text preprocessing:\n",
    "models = train_models(df_filtered_train, df_filtered_test)"
   ]
  },
  {
   "cell_type": "code",
   "execution_count": 30,
   "id": "4fcf58ba",
   "metadata": {},
   "outputs": [
    {
     "name": "stdout",
     "output_type": "stream",
     "text": [
      "NB=0.6100917431192661\n",
      "SGDClassifier=0.7642201834862385\n",
      "RF=0.5495412844036697\n",
      "LinearSVC=0.7577981651376147\n",
      "LogisticRegression=0.7660550458715596\n"
     ]
    }
   ],
   "source": [
    "# before text preprocessing:\n",
    "models = train_models(df_train, df_test)"
   ]
  },
  {
   "cell_type": "code",
   "execution_count": 31,
   "id": "e8f9de57",
   "metadata": {},
   "outputs": [],
   "source": [
    "# как можно увидеть препроцессинг данных улучшил качество всех моделей на +-0.02. Больший эффект на RF"
   ]
  },
  {
   "cell_type": "code",
   "execution_count": null,
   "id": "0efa67e7",
   "metadata": {},
   "outputs": [],
   "source": []
  },
  {
   "cell_type": "code",
   "execution_count": 36,
   "id": "d8794a0a",
   "metadata": {},
   "outputs": [],
   "source": [
    "# подбор лучший параметров для модели, которая показала себя лучше остальных\n",
    "#SGD\n",
    "parameters = {\n",
    "    'vect__ngram_range': [(1, 1), (1, 2)],\n",
    "    'tfidf__use_idf': (True, False),\n",
    "    'clf__alpha': (1e-2, 1e-4),\n",
    "    'clf__max_iter': (2, 10)\n",
    "}\n",
    "\n",
    "text_clf = Pipeline([\n",
    "    ('vect', CountVectorizer()),\n",
    "    ('tfidf', TfidfTransformer()),\n",
    "    ('clf', SGDClassifier(loss='hinge', penalty='l2',\n",
    "        random_state=42, tol=None)),\n",
    "])"
   ]
  },
  {
   "cell_type": "code",
   "execution_count": 37,
   "id": "9b7e5bb6",
   "metadata": {},
   "outputs": [],
   "source": [
    "gs_clf = GridSearchCV(text_clf, parameters, cv=5, n_jobs=-1)\n",
    "gs_clf = gs_clf.fit(df_filtered_train['text_employer'], df_filtered_train['category_id'])"
   ]
  },
  {
   "cell_type": "code",
   "execution_count": 38,
   "id": "e7893a18",
   "metadata": {},
   "outputs": [
    {
     "name": "stdout",
     "output_type": "stream",
     "text": [
      "clf__alpha: 0.0001\n",
      "clf__max_iter: 2\n",
      "tfidf__use_idf: False\n",
      "vect__ngram_range: (1, 2)\n"
     ]
    }
   ],
   "source": [
    "for param_name in sorted(parameters.keys()):\n",
    "    print(\"%s: %r\" % (param_name, gs_clf.best_params_[param_name]))"
   ]
  },
  {
   "cell_type": "code",
   "execution_count": 40,
   "id": "db73c9b9",
   "metadata": {},
   "outputs": [
    {
     "data": {
      "text/plain": [
       "0.7788826020549848"
      ]
     },
     "execution_count": 40,
     "metadata": {},
     "output_type": "execute_result"
    }
   ],
   "source": [
    "gs_clf.best_score_"
   ]
  },
  {
   "cell_type": "code",
   "execution_count": null,
   "id": "6062f8c5",
   "metadata": {},
   "outputs": [],
   "source": []
  },
  {
   "cell_type": "code",
   "execution_count": null,
   "id": "89c1be2e",
   "metadata": {},
   "outputs": [],
   "source": [
    "# LR"
   ]
  },
  {
   "cell_type": "code",
   "execution_count": 71,
   "id": "32af656d",
   "metadata": {},
   "outputs": [
    {
     "name": "stdout",
     "output_type": "stream",
     "text": [
      "Fitting 5 folds for each of 5 candidates, totalling 25 fits\n"
     ]
    }
   ],
   "source": [
    "text_clf = Pipeline([\n",
    "    ('vect', CountVectorizer()),\n",
    "    ('tfidf', TfidfTransformer()),\n",
    "    ('clf', LogisticRegression(random_state=0)),\n",
    "])\n",
    "\n",
    "\n",
    "params = [    \n",
    "    {'clf__penalty' : ['l1', 'l2', 'elasticnet'], \n",
    "    'clf__solver' : ['lbfgs','newton-cg','liblinear','sag','saga'],\n",
    "    'clf__max_iter' : [100, 250, 500, 1000, 2000] \n",
    "    }\n",
    "]\n",
    "\n",
    "clf = GridSearchCV(estimator = text_clf, param_grid = params, scoring = 'accuracy', cv = 5, verbose=True, n_jobs=-1)\n",
    "clf_fit = clf.fit(df_filtered_train.text_employer.iloc[:700], df_filtered_train.category_id.iloc[:700])"
   ]
  },
  {
   "cell_type": "code",
   "execution_count": null,
   "id": "7a8a6e20",
   "metadata": {},
   "outputs": [],
   "source": [
    "clf_fit.best_estimator_"
   ]
  },
  {
   "cell_type": "code",
   "execution_count": null,
   "id": "64d30a2c",
   "metadata": {},
   "outputs": [],
   "source": []
  },
  {
   "cell_type": "code",
   "execution_count": 31,
   "id": "6f36f58c",
   "metadata": {},
   "outputs": [
    {
     "name": "stdout",
     "output_type": "stream",
     "text": [
      "{0.7738209817131858}\n"
     ]
    }
   ],
   "source": [
    "# лучшая модель\n",
    "text_clf = Pipeline([\n",
    "    ('vect', CountVectorizer()),\n",
    "    ('tfidf', TfidfTransformer()),\n",
    "    ('clf', LogisticRegression(random_state=0)),\n",
    "])\n",
    "\n",
    "text_clf.fit(df_filtered_train.text_employer, df_filtered_train.category_id)\n",
    "Pipeline(...)\n",
    "\n",
    "predicted = text_clf.predict(df_filtered_test.text_employer)\n",
    "accuracy = np.mean(predicted == df_filtered_test.category_id)\n",
    "\n",
    "print({accuracy})"
   ]
  },
  {
   "cell_type": "code",
   "execution_count": 32,
   "id": "9709cf5c",
   "metadata": {},
   "outputs": [
    {
     "data": {
      "text/plain": [
       "['data/lr.joblib']"
      ]
     },
     "execution_count": 32,
     "metadata": {},
     "output_type": "execute_result"
    }
   ],
   "source": [
    "filename = \"data/lr.joblib\"\n",
    "joblib.dump(text_clf, filename)"
   ]
  },
  {
   "cell_type": "code",
   "execution_count": null,
   "id": "97282302",
   "metadata": {},
   "outputs": [],
   "source": []
  },
  {
   "cell_type": "code",
   "execution_count": null,
   "id": "3a4197d5",
   "metadata": {},
   "outputs": [],
   "source": []
  },
  {
   "cell_type": "code",
   "execution_count": 101,
   "id": "665bf300",
   "metadata": {},
   "outputs": [],
   "source": [
    "# По поводу предсказаний. Уже упоминал, что встречаются текста, где только приветствие или небольшие фразы, не особо \n",
    "# имеющие смысл. При этом в датасете для них указаны метки. Мне кажется это не корректно, потому что по данным\n",
    "# фразам сложно определить тематику текста. \n",
    "# что я сделал? \n",
    "# Делаем препроцессинг данных, отфильтровываем короткие фразы и на них не обучаемся. \n",
    "# Во время предсказаний я просто добавил еще одну метку, которая означала бы, что текст короткий (другая). \n",
    "\n",
    "def to_predict(df):\n",
    "    field_text = 'ACTION_ITEM_RESULT_PRODUCT_NAME'\n",
    "    labels = {0: 'Бизнес-карта', 1: 'Зарплатные проекты', 2: 'Эквайринг', 3: 'Открытие банковского счета',\n",
    "             4: 'Другая'}\n",
    "    \n",
    "    df = df[['text_employer']]\n",
    "    df['label_name'] = ''\n",
    "    df['label_id'] = 4\n",
    "    df['len_text'] = 0\n",
    "    \n",
    "    filename = \"data/lr.joblib\"\n",
    "    model = joblib.load(filename)\n",
    "    \n",
    "    predicted = model.predict(df.text_employer)\n",
    "    \n",
    "    i = 0\n",
    "    for index, row in df.iterrows():\n",
    "        if len(row['text_employer']) >= 50:\n",
    "            df.at[index, 'label_id'] = predicted[i] \n",
    "        df.at[index, 'label_name'] = labels[df.at[index, 'label_id']]\n",
    "        df.at[index, 'len_text'] = len(row['text_employer'])\n",
    "        i += 1\n",
    "        \n",
    "    return df"
   ]
  },
  {
   "cell_type": "code",
   "execution_count": 40,
   "id": "e69f863b",
   "metadata": {},
   "outputs": [],
   "source": [
    "df_prod = pd.read_csv('your_file.csv', sep=';', encoding='utf-8')"
   ]
  },
  {
   "cell_type": "code",
   "execution_count": 43,
   "id": "6950ca72",
   "metadata": {},
   "outputs": [],
   "source": [
    "df_prod = data_preprocessing(df_prod, production=True)"
   ]
  },
  {
   "cell_type": "code",
   "execution_count": 104,
   "id": "02abc48c",
   "metadata": {},
   "outputs": [
    {
     "data": {
      "text/html": [
       "<div>\n",
       "<style scoped>\n",
       "    .dataframe tbody tr th:only-of-type {\n",
       "        vertical-align: middle;\n",
       "    }\n",
       "\n",
       "    .dataframe tbody tr th {\n",
       "        vertical-align: top;\n",
       "    }\n",
       "\n",
       "    .dataframe thead th {\n",
       "        text-align: right;\n",
       "    }\n",
       "</style>\n",
       "<table border=\"1\" class=\"dataframe\">\n",
       "  <thead>\n",
       "    <tr style=\"text-align: right;\">\n",
       "      <th></th>\n",
       "      <th>text_employer</th>\n",
       "      <th>category_id</th>\n",
       "      <th>label_name</th>\n",
       "      <th>label_id</th>\n",
       "      <th>len_text</th>\n",
       "    </tr>\n",
       "  </thead>\n",
       "  <tbody>\n",
       "    <tr>\n",
       "      <th>0</th>\n",
       "      <td>бизнес звонить индивидуальный предприниматель ...</td>\n",
       "      <td>0</td>\n",
       "      <td>Бизнес-карта</td>\n",
       "      <td>0</td>\n",
       "      <td>54</td>\n",
       "    </tr>\n",
       "    <tr>\n",
       "      <th>1</th>\n",
       "      <td>строка бизнес звонить индивидуальный предприни...</td>\n",
       "      <td>1</td>\n",
       "      <td>Зарплатные проекты</td>\n",
       "      <td>1</td>\n",
       "      <td>570</td>\n",
       "    </tr>\n",
       "    <tr>\n",
       "      <th>2</th>\n",
       "      <td>здравствуйте ваш бизнес звонить индивидуальный...</td>\n",
       "      <td>1</td>\n",
       "      <td>Зарплатные проекты</td>\n",
       "      <td>1</td>\n",
       "      <td>1239</td>\n",
       "    </tr>\n",
       "    <tr>\n",
       "      <th>3</th>\n",
       "      <td>бизнес обращаться организация бизнес стиль гов...</td>\n",
       "      <td>1</td>\n",
       "      <td>Зарплатные проекты</td>\n",
       "      <td>1</td>\n",
       "      <td>1061</td>\n",
       "    </tr>\n",
       "    <tr>\n",
       "      <th>4</th>\n",
       "      <td>смотреть звонить индивидуальный предпринимател...</td>\n",
       "      <td>1</td>\n",
       "      <td>Бизнес-карта</td>\n",
       "      <td>0</td>\n",
       "      <td>129</td>\n",
       "    </tr>\n",
       "    <tr>\n",
       "      <th>5</th>\n",
       "      <td>бизнес звонить индивидуальный предприниматель ...</td>\n",
       "      <td>0</td>\n",
       "      <td>Бизнес-карта</td>\n",
       "      <td>0</td>\n",
       "      <td>1259</td>\n",
       "    </tr>\n",
       "    <tr>\n",
       "      <th>6</th>\n",
       "      <td>надежда бизнес немой индивидуальный предприним...</td>\n",
       "      <td>2</td>\n",
       "      <td>Эквайринг</td>\n",
       "      <td>2</td>\n",
       "      <td>805</td>\n",
       "    </tr>\n",
       "    <tr>\n",
       "      <th>7</th>\n",
       "      <td>бизнес предприниматель звонить разговаривать р...</td>\n",
       "      <td>0</td>\n",
       "      <td>Бизнес-карта</td>\n",
       "      <td>0</td>\n",
       "      <td>484</td>\n",
       "    </tr>\n",
       "    <tr>\n",
       "      <th>8</th>\n",
       "      <td>звать бизнес звонить индивидуальный предприним...</td>\n",
       "      <td>3</td>\n",
       "      <td>Открытие банковского счета</td>\n",
       "      <td>3</td>\n",
       "      <td>1889</td>\n",
       "    </tr>\n",
       "    <tr>\n",
       "      <th>9</th>\n",
       "      <td>мочь обращаться бухгалтер большой перезвонить</td>\n",
       "      <td>0</td>\n",
       "      <td>Другая</td>\n",
       "      <td>4</td>\n",
       "      <td>45</td>\n",
       "    </tr>\n",
       "  </tbody>\n",
       "</table>\n",
       "</div>"
      ],
      "text/plain": [
       "                                       text_employer  category_id   \n",
       "0  бизнес звонить индивидуальный предприниматель ...            0  \\\n",
       "1  строка бизнес звонить индивидуальный предприни...            1   \n",
       "2  здравствуйте ваш бизнес звонить индивидуальный...            1   \n",
       "3  бизнес обращаться организация бизнес стиль гов...            1   \n",
       "4  смотреть звонить индивидуальный предпринимател...            1   \n",
       "5  бизнес звонить индивидуальный предприниматель ...            0   \n",
       "6  надежда бизнес немой индивидуальный предприним...            2   \n",
       "7  бизнес предприниматель звонить разговаривать р...            0   \n",
       "8  звать бизнес звонить индивидуальный предприним...            3   \n",
       "9      мочь обращаться бухгалтер большой перезвонить            0   \n",
       "\n",
       "                   label_name  label_id  len_text  \n",
       "0                Бизнес-карта         0        54  \n",
       "1          Зарплатные проекты         1       570  \n",
       "2          Зарплатные проекты         1      1239  \n",
       "3          Зарплатные проекты         1      1061  \n",
       "4                Бизнес-карта         0       129  \n",
       "5                Бизнес-карта         0      1259  \n",
       "6                   Эквайринг         2       805  \n",
       "7                Бизнес-карта         0       484  \n",
       "8  Открытие банковского счета         3      1889  \n",
       "9                      Другая         4        45  "
      ]
     },
     "execution_count": 104,
     "metadata": {},
     "output_type": "execute_result"
    }
   ],
   "source": [
    "df_predictions = to_predict(df_prod)\n",
    "df_predictions.head(10)"
   ]
  },
  {
   "cell_type": "code",
   "execution_count": null,
   "id": "834e6da9",
   "metadata": {},
   "outputs": [],
   "source": [
    "# Примерно как выглядит результат функции, она возвращает df. \n",
    "# Для теста я использовал тот же самый датасет. Так делать неправильно, просто для теста.\n",
    "# Оставил оригинальные category_id, предсказанные label_id, длину текста len_text"
   ]
  },
  {
   "cell_type": "markdown",
   "id": "317440e4",
   "metadata": {},
   "source": [
    "<img src='data/predictions.png' width=960, heigth=720>"
   ]
  },
  {
   "cell_type": "raw",
   "id": "c6023b26",
   "metadata": {},
   "source": [
    "Кроме классических ML алгоритмов, попробовал трансформер (Bert), мультиязычный, 'bert-base-multilingual-cased'.\n",
    "Главной сложность работы с ним было то, что не хватало мощностей, чтобы провести больше тестов с ним.\n",
    "Сделал несколько тестов. \n",
    "\n",
    "Первый тест. Использовал для обучения только 1000 текстов из ~4300. Без препроцессинга данных. Тренировка одной эпохи занимало 50-60 минут. После 5и эпох показывал точность порядка 70%. Датасет бил на 80/10/10. Во премя обучения на валидационном смотрел результаты, после обучения на тестовом считал accuracy. Обучался на 1000 из 80% части."
   ]
  },
  {
   "cell_type": "markdown",
   "id": "6b59ef04",
   "metadata": {},
   "source": [
    "<img src='data/bert_1k_5E.png' width=640, heigth=480>"
   ]
  },
  {
   "cell_type": "raw",
   "id": "2e2228e5",
   "metadata": {},
   "source": [
    "Второй тест. То же самое, но 2500 текстов. accuracy = 76%."
   ]
  },
  {
   "cell_type": "markdown",
   "id": "adaa0f8b",
   "metadata": {},
   "source": [
    "<img src='data/bert_2500_5E.png' width=640, heigth=480>"
   ]
  },
  {
   "cell_type": "raw",
   "id": "0e844cca",
   "metadata": {},
   "source": [
    "Третий тест. Попробовал заморозить веса и обучать только перцептрон (последний слой), который предсказывает классы. По времени он стал тренироваться быстрее на 45 минут для размера 2500 текстов. Обучал на 3200 текстов, но стало заметно, что обучается хуже.\n",
    "Здесь использовал препроцессинг. "
   ]
  },
  {
   "cell_type": "markdown",
   "id": "c2b4dd73",
   "metadata": {},
   "source": [
    "<img src='data/bert_freeze.png' width=640, heigth=480>"
   ]
  },
  {
   "cell_type": "raw",
   "id": "261fdf9f",
   "metadata": {},
   "source": [
    "Веса занимают порядка 750мб, при необходимости могу залить куда-нибудь. \n",
    "\n",
    "В целом, если обучать на всем датасете и пытаться оптимизировать, улучшать, то должен набирать 80-85%.\n",
    "\n",
    "На самом деле думал еще попробовать потестировать rubert-tiny2. Вроде хвалят для работы с русским языком. \n",
    "https://huggingface.co/cointegrated/rubert-tiny2"
   ]
  },
  {
   "cell_type": "code",
   "execution_count": null,
   "id": "23bad5c4",
   "metadata": {},
   "outputs": [],
   "source": []
  },
  {
   "cell_type": "raw",
   "id": "f99b0e13",
   "metadata": {},
   "source": [
    "Выводы:\n",
    "\n",
    "- по поводу обучающих данных. Немного поизучал текста. Иногда в них присутствет просто болтовня операторов (момент пока клиент не ответил на звонок); проблемы с транскрибацией диалогов (опечатки, неверные слова); имена, названия городов, которые не влияют на тему и я их старался отфильтровывать; приветствие, прощание, представляется человек, говорит свою должность и название банка (кажется данная информация не влияет на тематику продукта); \n",
    "    Вообщем я постарался увеличить список стоп-слов, для решения данных проблем. Для данной задачи слова (добрый день, до свидания и т.д.) не несут большого смысла, но при этом для второй задачи они важны. Поэтому список стоп-слов отличается. (но в целом думаю я еще много чего не заметил в диалогах).\n",
    "    Короткие диалоги тоже часто не содержат ничего интересного, но при этом они содержат метки. Хотя зачастую определить тематику разговора по ним кажется невозможным ('добрый день меня зовут ... я менеджер банка').\n",
    "    \n",
    "- Что делал? Изучал данные. Сделал препроцессинг данных (отфильтровал короткие фразы, удалил знаки прпинания, поправил фразы типа добрый_день, сделал лемматизацию, удалял стоп-слова). Идея с увеличением списка стоп-слов дает результат (многие фразы типа приветствия и болтовни не несут смысла для данной задачи), в этом направлении есть куда улучшать еще. \n",
    "    Попробовал несколько моделек классического ML (лучше всего показала LR). Попробовал Bert. Чтобы сильно улучшать результаты стоит копать в сторону DL и стоит обратить внимание на обработку данных.\n",
    "    \n",
    "- По confusion matrix видно, что большая часть ошибкок встречается, когда 1ый, 2ой и 3ий класс ошибаются на 0ом классе (Бизнес-карта). Возможно, у них есть сильные пересечения по словам, может быть мало данных для некоторых классов (присутствует дисбаланс в сторону 0го класса в данных), также возможно что большие диалоги могут содержать несколько тематик. \n",
    "\n",
    "- accuracy в разных экспериментах принимала значения от 77% до 80% для LR. Bert лучший результат был 76%, но у меня не хватает мощностей, что дольше его тренировать и использовать все доступные данные, использовал только около половины. \n",
    "\n",
    "- Пробовал подбирать гиперпараметры для моделек классического ML, особо результата не дало. \n",
    "\n",
    "- Теоретический можно попробовать подтянуть даты для предсказаний. Может быть так, что некоторые тематики не присутствовали до определенной даты.\n",
    "\n",
    "- Можно еще порыться в ucid поле. Но я в основном изучал текста. "
   ]
  },
  {
   "cell_type": "code",
   "execution_count": null,
   "id": "5d2f4385",
   "metadata": {},
   "outputs": [],
   "source": []
  },
  {
   "cell_type": "code",
   "execution_count": null,
   "id": "cb8940a9",
   "metadata": {},
   "outputs": [],
   "source": []
  },
  {
   "cell_type": "code",
   "execution_count": null,
   "id": "61a304b7",
   "metadata": {},
   "outputs": [],
   "source": []
  }
 ],
 "metadata": {
  "kernelspec": {
   "display_name": "Python 3 (ipykernel)",
   "language": "python",
   "name": "python3"
  },
  "language_info": {
   "codemirror_mode": {
    "name": "ipython",
    "version": 3
   },
   "file_extension": ".py",
   "mimetype": "text/x-python",
   "name": "python",
   "nbconvert_exporter": "python",
   "pygments_lexer": "ipython3",
   "version": "3.10.2"
  }
 },
 "nbformat": 4,
 "nbformat_minor": 5
}
